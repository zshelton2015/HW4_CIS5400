{
 "cells": [
  {
   "cell_type": "code",
   "execution_count": 530,
   "metadata": {
    "collapsed": true,
    "pycharm": {
     "is_executing": false,
     "name": "#%%\n"
    }
   },
   "outputs": [
    {
     "name": "stdout",
     "text": [
      "(23373, 21)\n",
      "\n",
      "Row 1\n",
      "\n",
      "BOROUGH                                                                      3\n",
      "NEIGHBORHOOD                                                                  \n",
      "BUILDING CLASS CATEGORY           15  CONDOS - 2-10 UNIT RESIDENTIAL          \n",
      "TAX CLASS AT PRESENT                                                          \n",
      "BLOCK                                                                      814\n",
      "LOT                                                                       1103\n",
      "EASE-MENT                                                                     \n",
      "BUILDING CLASS AT PRESENT                                                     \n",
      "ADDRESS                             342 53RD    STREET                        \n",
      "APART\\r\\nMENT NUMBER                                                          \n",
      "ZIP CODE                                                                 11220\n",
      "RESIDENTIAL UNITS                                                            0\n",
      "COMMERCIAL UNITS                                                             0\n",
      "TOTAL UNITS                                                                  0\n",
      "LAND SQUARE FEET                                                             0\n",
      "GROSS SQUARE FEET                                                            0\n",
      "YEAR BUILT                                                                   0\n",
      "TAX CLASS AT TIME OF SALE                                                    2\n",
      "BUILDING CLASS AT TIME OF SALE                                             R1 \n",
      "SALE PRICE                                                            $403,572\n",
      "SALE DATE                                                               7/9/13\n",
      "Name: 0, dtype: object\n",
      "\n",
      "Row 2\n",
      "\n",
      "BOROUGH                                                                      3\n",
      "NEIGHBORHOOD                                                                  \n",
      "BUILDING CLASS CATEGORY           15  CONDOS - 2-10 UNIT RESIDENTIAL          \n",
      "TAX CLASS AT PRESENT                                                          \n",
      "BLOCK                                                                      814\n",
      "LOT                                                                       1105\n",
      "EASE-MENT                                                                     \n",
      "BUILDING CLASS AT PRESENT                                                     \n",
      "ADDRESS                             342 53RD    STREET                        \n",
      "APART\\r\\nMENT NUMBER                                                          \n",
      "ZIP CODE                                                                 11220\n",
      "RESIDENTIAL UNITS                                                            0\n",
      "COMMERCIAL UNITS                                                             0\n",
      "TOTAL UNITS                                                                  0\n",
      "LAND SQUARE FEET                                                             0\n",
      "GROSS SQUARE FEET                                                            0\n",
      "YEAR BUILT                                                                   0\n",
      "TAX CLASS AT TIME OF SALE                                                    2\n",
      "BUILDING CLASS AT TIME OF SALE                                             R1 \n",
      "SALE PRICE                                                            $218,010\n",
      "SALE DATE                                                              7/12/13\n",
      "Name: 1, dtype: object\n",
      "\n",
      "Row 14\n",
      "\n",
      "BOROUGH                                                                      3\n",
      "NEIGHBORHOOD                                         BATH BEACH               \n",
      "BUILDING CLASS CATEGORY                                                       \n",
      "TAX CLASS AT PRESENT                                                         4\n",
      "BLOCK                                                                     6370\n",
      "LOT                                                                       1313\n",
      "EASE-MENT                                                                     \n",
      "BUILDING CLASS AT PRESENT                                                   RP\n",
      "ADDRESS                             88 BAY 20TH   STREET                      \n",
      "APART\\r\\nMENT NUMBER                                              P12         \n",
      "ZIP CODE                                                                 11214\n",
      "RESIDENTIAL UNITS                                                            0\n",
      "COMMERCIAL UNITS                                                             0\n",
      "TOTAL UNITS                                                                  1\n",
      "LAND SQUARE FEET                                                             0\n",
      "GROSS SQUARE FEET                                                            0\n",
      "YEAR BUILT                                                                2011\n",
      "TAX CLASS AT TIME OF SALE                                                    4\n",
      "BUILDING CLASS AT TIME OF SALE                                             RP \n",
      "SALE PRICE                                                                  $0\n",
      "SALE DATE                                                             11/13/12\n",
      "Name: 13, dtype: object\n"
     ],
     "output_type": "stream"
    }
   ],
   "source": [
    "import math\n",
    "import pandas as pd\n",
    "\n",
    "#q1\n",
    "\n",
    "brooklyn_sales = pd.read_csv(\"rollingsales_brooklyn.csv\",skiprows= 4)\n",
    "print(brooklyn_sales.shape)\n",
    "print(\"\\nRow 1\\n\")\n",
    "print(brooklyn_sales.iloc[0])\n",
    "print(\"\\nRow 2\\n\")\n",
    "print(brooklyn_sales.iloc[1])\n",
    "print(\"\\nRow 14\\n\")\n",
    "print(brooklyn_sales.iloc[13])"
   ]
  },
  {
   "cell_type": "code",
   "execution_count": 531,
   "outputs": [
    {
     "name": "stdout",
     "text": [
      "borough                                                                      3\n",
      "neighborhood                                         BATH BEACH               \n",
      "building_class_category                                                       \n",
      "tax_class_at_present                                                         4\n",
      "block                                                                     6370\n",
      "lot                                                                       1313\n",
      "ease-ment                                                                     \n",
      "building_class_at_present                                                   RP\n",
      "address                             88 BAY 20TH   STREET                      \n",
      "apart\\rment_number                                                P12         \n",
      "zip_code                                                                 11214\n",
      "residential_units                                                            0\n",
      "commercial_units                                                             0\n",
      "total_units                                                                  1\n",
      "land_square_feet                                                             0\n",
      "gross_square_feet                                                            0\n",
      "year_built                                                                2011\n",
      "tax_class_at_time_of_sale                                                    4\n",
      "building_class_at_time_of_sale                                             RP \n",
      "sale_price                                                                  $0\n",
      "sale_date                                                             11/13/12\n",
      "Name: 13, dtype: object\n"
     ],
     "output_type": "stream"
    }
   ],
   "source": [
    "#q2\n",
    "\n",
    "brooklyn_sales.columns = map(str.lower,brooklyn_sales.columns)\n",
    "n=0\n",
    "for val in brooklyn_sales.columns:\n",
    "    temp = val.replace(\" \",\"_\")\n",
    "    temp = temp.replace(\"\\n\",\"\")\n",
    "    brooklyn_sales.rename(columns={brooklyn_sales.columns[n]:temp},inplace=True)\n",
    "    n=n+1\n",
    "print(brooklyn_sales.iloc[13])"
   ],
   "metadata": {
    "collapsed": false,
    "pycharm": {
     "name": "#%%\n",
     "is_executing": false
    }
   }
  },
  {
   "cell_type": "code",
   "execution_count": 532,
   "outputs": [
    {
     "name": "stdout",
     "text": [
      "0         403572.0\n",
      "1         218010.0\n",
      "2         952311.0\n",
      "3         842692.0\n",
      "4         815288.0\n",
      "           ...    \n",
      "23368          0.0\n",
      "23369          0.0\n",
      "23370    1090000.0\n",
      "23371          0.0\n",
      "23372          0.0\n",
      "Name: sale_price, Length: 23373, dtype: float64\n"
     ],
     "output_type": "stream"
    }
   ],
   "source": [
    "#q3\n",
    "import re\n",
    "brooklyn_sales['sale_price'] = brooklyn_sales['sale_price'].apply(lambda x:re.sub(',','',x))\n",
    "brooklyn_sales['sale_price'] = brooklyn_sales['sale_price'].apply(lambda x:x.lstrip('$'))\n",
    "brooklyn_sales['sale_price'] = brooklyn_sales['sale_price'].astype(float)\n",
    "print(brooklyn_sales['sale_price'])"
   ],
   "metadata": {
    "collapsed": false,
    "pycharm": {
     "name": "#%%\n",
     "is_executing": false
    }
   }
  },
  {
   "cell_type": "code",
   "execution_count": 533,
   "outputs": [
    {
     "name": "stdout",
     "text": [
      "The number of missing sale prices are: 8791.\n"
     ],
     "output_type": "stream"
    }
   ],
   "source": [
    "#q4\n",
    "null_values = brooklyn_sales[brooklyn_sales['sale_price']==0]\n",
    "print(\"The number of missing sale prices are: %.0f.\" %len(null_values))"
   ],
   "metadata": {
    "collapsed": false,
    "pycharm": {
     "name": "#%%\n",
     "is_executing": false
    }
   }
  },
  {
   "cell_type": "code",
   "execution_count": 534,
   "outputs": [],
   "source": [
    "#q5\n",
    "brooklyn_sales['land_square_feet'] = brooklyn_sales['land_square_feet'].apply(lambda x:re.sub(',','',x))\n",
    "brooklyn_sales['land_square_feet']=brooklyn_sales['land_square_feet'].astype(float)"
   ],
   "metadata": {
    "collapsed": false,
    "pycharm": {
     "name": "#%%\n",
     "is_executing": false
    }
   }
  },
  {
   "cell_type": "code",
   "execution_count": 535,
   "outputs": [],
   "source": [
    "#q6\n",
    "\n",
    "brooklyn_sales['gross_square_feet'] = brooklyn_sales['gross_square_feet'].apply(lambda x:re.sub(',','',x))\n",
    "brooklyn_sales['gross_square_feet']=brooklyn_sales['gross_square_feet'].astype(float)"
   ],
   "metadata": {
    "collapsed": false,
    "pycharm": {
     "name": "#%%\n",
     "is_executing": false
    }
   }
  },
  {
   "cell_type": "code",
   "execution_count": 536,
   "outputs": [
    {
     "name": "stdout",
     "text": [
      "0          7/9/13\n",
      "1         7/12/13\n",
      "2         4/25/13\n",
      "3         4/25/13\n",
      "4         4/25/13\n",
      "           ...   \n",
      "23368     1/17/13\n",
      "23369     1/17/13\n",
      "23370    12/28/12\n",
      "23371     4/17/13\n",
      "23372    12/14/12\n",
      "Name: sale_date, Length: 23373, dtype: object\n"
     ],
     "output_type": "stream"
    }
   ],
   "source": [
    "#q7\n",
    "print(brooklyn_sales['sale_date'])\n",
    "brooklyn_sales['sale_date']=pd.to_datetime(brooklyn_sales['sale_date'])"
   ],
   "metadata": {
    "collapsed": false,
    "pycharm": {
     "name": "#%%\n",
     "is_executing": false
    }
   }
  },
  {
   "cell_type": "code",
   "execution_count": 537,
   "outputs": [],
   "source": [
    "#q8\n",
    "brooklyn_sales['year_built']=brooklyn_sales['year_built'].astype(int)"
   ],
   "metadata": {
    "collapsed": false,
    "pycharm": {
     "name": "#%%\n",
     "is_executing": false
    }
   }
  },
  {
   "cell_type": "code",
   "execution_count": 538,
   "outputs": [],
   "source": [
    "#q9\n",
    "brooklyn_sales['zip_code']=brooklyn_sales['zip_code'].astype(str)"
   ],
   "metadata": {
    "collapsed": false,
    "pycharm": {
     "name": "#%%\n",
     "is_executing": false
    }
   }
  },
  {
   "cell_type": "code",
   "execution_count": 539,
   "outputs": [],
   "source": [
    "#q11\n",
    "brooklyn_sales['address'] = brooklyn_sales['address'].apply(lambda x:re.sub('EAST/WEST','E/W',x))\n",
    "brooklyn_sales['address'] = brooklyn_sales['address'].apply(lambda x:re.sub('STREET/AVENUE','ST/AVE',x))"
   ],
   "metadata": {
    "collapsed": false,
    "pycharm": {
     "name": "#%%\n",
     "is_executing": false
    }
   }
  },
  {
   "cell_type": "code",
   "execution_count": 540,
   "outputs": [
    {
     "data": {
      "text/plain": "Text(0.5, 1.0, 'Sale Price Frequency')"
     },
     "metadata": {},
     "output_type": "execute_result",
     "execution_count": 540
    },
    {
     "data": {
      "text/plain": "<Figure size 432x288 with 1 Axes>",
      "image/png": "[encoded data removed]"
     },
     "metadata": {
      "needs_background": "light"
     },
     "output_type": "display_data"
    }
   ],
   "source": [
    "#q12\n",
    "#a\n",
    "import matplotlib.pyplot as plt\n",
    "vals = (brooklyn_sales['sale_price'])\n",
    "bins_sale = []\n",
    "n=0\n",
    "while n<5000000:\n",
    "    bins_sale.append(n)\n",
    "    n=n+50000\n",
    "n,bins,patches = plt.hist(brooklyn_sales['sale_price'],bins = bins_sale)\n",
    "plt.xlabel(\"Sale Price\")\n",
    "plt.ylabel(\"Count\")\n",
    "plt.title(\"Sale Price Frequency\")"
   ],
   "metadata": {
    "collapsed": false,
    "pycharm": {
     "name": "#%%\n",
     "is_executing": false
    }
   }
  },
  {
   "cell_type": "code",
   "execution_count": 541,
   "outputs": [
    {
     "data": {
      "text/plain": "Text(0.5, 1.0, 'Sale Price Frequency(Omitting Missing or Zero Values)')"
     },
     "metadata": {},
     "output_type": "execute_result",
     "execution_count": 541
    },
    {
     "data": {
      "text/plain": "<Figure size 432x288 with 1 Axes>",
      "image/png": "[encoded data removed]"
     },
     "metadata": {
      "needs_background": "light"
     },
     "output_type": "display_data"
    }
   ],
   "source": [
    "#q12\n",
    "#b\n",
    "n,bins,patches = plt.hist(brooklyn_sales[brooklyn_sales['sale_price']!=0]['sale_price'],bins = bins_sale)\n",
    "plt.xlabel(\"Sale Price\")\n",
    "plt.ylabel(\"Count\")\n",
    "plt.title(\"Sale Price Frequency(Omitting Missing or Zero Values)\")"
   ],
   "metadata": {
    "collapsed": false,
    "pycharm": {
     "name": "#%%\n",
     "is_executing": false
    }
   }
  },
  {
   "cell_type": "code",
   "execution_count": 542,
   "outputs": [
    {
     "data": {
      "text/plain": "Text(0.5, 1.0, 'Sale Price Frequency')"
     },
     "metadata": {},
     "output_type": "execute_result",
     "execution_count": 542
    },
    {
     "data": {
      "text/plain": "<Figure size 432x288 with 1 Axes>",
      "image/png": "[encoded data removed]"
     },
     "metadata": {
      "needs_background": "light"
     },
     "output_type": "display_data"
    }
   ],
   "source": [
    "#q12\n",
    "#c\n",
    "bins_feet = []\n",
    "n=0\n",
    "while n<(25000):\n",
    "    bins_feet.append(n)\n",
    "    n=n+500\n",
    "n,bins,patches = plt.hist(brooklyn_sales[brooklyn_sales['sale_price']!=0]['gross_square_feet'],bins = bins_feet)\n",
    "plt.xlabel(\"Gross Square Feet(When Price = 0)\")\n",
    "plt.ylabel(\"Count\")\n",
    "plt.title(\"Sale Price Frequency\")"
   ],
   "metadata": {
    "collapsed": false,
    "pycharm": {
     "name": "#%%\n",
     "is_executing": false
    }
   }
  },
  {
   "cell_type": "code",
   "execution_count": 543,
   "outputs": [],
   "source": [
    "#q13\n",
    "correct_sales = brooklyn_sales[brooklyn_sales['sale_price']!=0]"
   ],
   "metadata": {
    "collapsed": false,
    "pycharm": {
     "name": "#%%\n",
     "is_executing": false
    }
   }
  },
  {
   "cell_type": "code",
   "execution_count": 544,
   "outputs": [
    {
     "data": {
      "text/plain": "Text(0.5, 1.0, 'Gross Square Foot vs Sale Price')"
     },
     "metadata": {},
     "output_type": "execute_result",
     "execution_count": 544
    },
    {
     "data": {
      "text/plain": "<Figure size 432x288 with 1 Axes>",
      "image/png": "[encoded data removed]"
     },
     "metadata": {
      "needs_background": "light"
     },
     "output_type": "display_data"
    }
   ],
   "source": [
    "#q14\n",
    "plt.scatter(correct_sales['gross_square_feet'],correct_sales['sale_price'])\n",
    "plt.xlabel(\"Gross Square Footage(feet squared)(CORRECTED)\")\n",
    "plt.ylabel(\"Sale Price\")\n",
    "plt.title(\"Gross Square Foot vs Sale Price\")"
   ],
   "metadata": {
    "collapsed": false,
    "pycharm": {
     "name": "#%%\n",
     "is_executing": false
    }
   }
  },
  {
   "cell_type": "code",
   "execution_count": 545,
   "outputs": [
    {
     "name": "stderr",
     "text": [
      "c:\\users\\zshel\\pycharmprojects\\hw4_cis5400\\venv\\lib\\site-packages\\ipykernel_launcher.py:7: SettingWithCopyWarning: \n",
      "A value is trying to be set on a copy of a slice from a DataFrame.\n",
      "Try using .loc[row_indexer,col_indexer] = value instead\n",
      "\n",
      "See the caveats in the documentation: https://pandas.pydata.org/pandas-docs/stable/user_guide/indexing.html#returning-a-view-versus-a-copy\n",
      "  import sys\n",
      "c:\\users\\zshel\\pycharmprojects\\hw4_cis5400\\venv\\lib\\site-packages\\pandas\\core\\series.py:679: RuntimeWarning: divide by zero encountered in log\n",
      "  result = getattr(ufunc, method)(*inputs, **kwargs)\n",
      "c:\\users\\zshel\\pycharmprojects\\hw4_cis5400\\venv\\lib\\site-packages\\ipykernel_launcher.py:8: SettingWithCopyWarning: \n",
      "A value is trying to be set on a copy of a slice from a DataFrame.\n",
      "Try using .loc[row_indexer,col_indexer] = value instead\n",
      "\n",
      "See the caveats in the documentation: https://pandas.pydata.org/pandas-docs/stable/user_guide/indexing.html#returning-a-view-versus-a-copy\n",
      "  \n"
     ],
     "output_type": "stream"
    },
    {
     "data": {
      "text/plain": "Text(0.5, 1.0, 'Gross Square Foot vs Sale Price')"
     },
     "metadata": {},
     "output_type": "execute_result",
     "execution_count": 545
    },
    {
     "data": {
      "text/plain": "<Figure size 432x288 with 1 Axes>",
      "image/png": "[encoded data removed]"
     },
     "metadata": {
      "needs_background": "light"
     },
     "output_type": "display_data"
    }
   ],
   "source": [
    "#q15\n",
    "'''\n",
    "Setting the scale of the axis to logs cause data loss, so the values are changed\n",
    "manually\n",
    "'''\n",
    "import numpy as np\n",
    "correct_sales['sale_price'] = np.log(correct_sales['sale_price'])\n",
    "correct_sales['gross_square_feet'] = np.log(correct_sales['gross_square_feet'])\n",
    "plt.scatter(correct_sales['gross_square_feet'],correct_sales['sale_price'])\n",
    "plt.xlabel(\"Gross Square Footage(ft^2)(LOG_10)\")\n",
    "plt.ylabel(\"Sale Price($)(LOG_10)\")\n",
    "plt.title(\"Gross Square Foot vs Sale Price\")"
   ],
   "metadata": {
    "collapsed": false,
    "pycharm": {
     "name": "#%%\n",
     "is_executing": false
    }
   }
  },
  {
   "cell_type": "code",
   "execution_count": 546,
   "outputs": [],
   "source": [
    "#q16\n",
    "brooklyn_family_sales = brooklyn_sales[brooklyn_sales['building_class_category'].str.contains(\"FAMILY\")]"
   ],
   "metadata": {
    "collapsed": false,
    "pycharm": {
     "name": "#%%\n",
     "is_executing": false
    }
   }
  },
  {
   "cell_type": "code",
   "execution_count": 547,
   "outputs": [
    {
     "data": {
      "text/plain": "Text(0.5, 1.0, 'Family Homes Gross Square Foot vs Sale Price(LOG)')"
     },
     "metadata": {},
     "output_type": "execute_result",
     "execution_count": 547
    },
    {
     "data": {
      "text/plain": "<Figure size 432x288 with 1 Axes>",
      "image/png": "[encoded data removed]"
     },
     "metadata": {
      "needs_background": "light"
     },
     "output_type": "display_data"
    }
   ],
   "source": [
    "plt.scatter(np.log(brooklyn_family_sales['gross_square_feet']),np.log(brooklyn_family_sales['sale_price']))\n",
    "plt.xlabel(\"Gross Square Footage(ft^2)(LOG_10)\")\n",
    "plt.ylabel(\"Sale Price($)(LOG_10)\")\n",
    "plt.title(\"Family Homes Gross Square Foot vs Sale Price(LOG)\")"
   ],
   "metadata": {
    "collapsed": false,
    "pycharm": {
     "name": "#%%\n",
     "is_executing": false
    }
   }
  },
  {
   "cell_type": "code",
   "execution_count": 548,
   "outputs": [
    {
     "name": "stdout",
     "text": [
      "4745\n"
     ],
     "output_type": "stream"
    }
   ],
   "source": [
    "#q17\n",
    "brooklyn_family_sales_less= brooklyn_family_sales[brooklyn_family_sales['sale_price']<100000]\n",
    "print(len(brooklyn_family_sales_less))"
   ],
   "metadata": {
    "collapsed": false,
    "pycharm": {
     "name": "#%%\n",
     "is_executing": false
    }
   }
  },
  {
   "cell_type": "code",
   "execution_count": 549,
   "outputs": [
    {
     "name": "stdout",
     "text": [
      "27\n"
     ],
     "output_type": "stream"
    }
   ],
   "source": [
    "#q18\n",
    "sale_price_count = (brooklyn_family_sales['sale_price'].value_counts())\n",
    "print(sale_price_count[1])"
   ],
   "metadata": {
    "collapsed": false,
    "pycharm": {
     "name": "#%%\n",
     "is_executing": false
    }
   }
  },
  {
   "cell_type": "code",
   "execution_count": 555,
   "outputs": [
    {
     "data": {
      "text/plain": "Text(0.5, 1.0, 'Family Homes Gross Square Foot vs Sale Price')"
     },
     "metadata": {},
     "output_type": "execute_result",
     "execution_count": 555
    },
    {
     "data": {
      "text/plain": "<Figure size 432x288 with 1 Axes>",
      "image/png": "[encoded data removed]"
     },
     "metadata": {
      "needs_background": "light"
     },
     "output_type": "display_data"
    }
   ],
   "source": [
    "#q19\n",
    "brooklyn_family_sales =brooklyn_family_sales[brooklyn_family_sales['sale_price']>=0]\n",
    "#q20\n",
    "plt.scatter((brooklyn_family_sales['gross_square_feet']),(brooklyn_family_sales['sale_price']))\n",
    "plt.xlabel(\"Gross Square Footage(ft^2)\")\n",
    "plt.ylabel(\"Sale Price($)\")\n",
    "plt.title(\"Family Homes Gross Square Foot vs Sale Price\")"
   ],
   "metadata": {
    "collapsed": false,
    "pycharm": {
     "name": "#%%\n",
     "is_executing": false
    }
   }
  },
  {
   "cell_type": "code",
   "execution_count": 556,
   "outputs": [
    {
     "data": {
      "text/plain": "Text(0.5, 1.0, 'Family Homes Gross Square Foot vs Sale Price(LOG)')"
     },
     "metadata": {},
     "output_type": "execute_result",
     "execution_count": 556
    },
    {
     "data": {
      "text/plain": "<Figure size 432x288 with 1 Axes>",
      "image/png": "[encoded data removed]"
     },
     "metadata": {
      "needs_background": "light"
     },
     "output_type": "display_data"
    }
   ],
   "source": [
    "#q21\n",
    "brooklyn_family_sales =brooklyn_family_sales[brooklyn_family_sales['sale_price']>=5]\n",
    "plt.scatter(np.log(brooklyn_family_sales['gross_square_feet']),np.log(brooklyn_family_sales['sale_price']))\n",
    "plt.xlabel(\"Gross Square Footage(ft^2)(LOG_10)\")\n",
    "plt.ylabel(\"Sale Price($)(LOG_100\")\n",
    "plt.title(\"Family Homes Gross Square Foot vs Sale Price(LOG)\")"
   ],
   "metadata": {
    "collapsed": false,
    "pycharm": {
     "name": "#%%\n",
     "is_executing": false
    }
   }
  }
 ],
 "metadata": {
  "kernelspec": {
   "display_name": "Python 3",
   "language": "python",
   "name": "python3"
  },
  "language_info": {
   "codemirror_mode": {
    "name": "ipython",
    "version": 2
   },
   "file_extension": ".py",
   "mimetype": "text/x-python",
   "name": "python",
   "nbconvert_exporter": "python",
   "pygments_lexer": "ipython2",
   "version": "2.7.6"
  },
  "pycharm": {
   "stem_cell": {
    "cell_type": "raw",
    "source": [],
    "metadata": {
     "collapsed": false
    }
   }
  }
 },
 "nbformat": 4,
 "nbformat_minor": 0
}